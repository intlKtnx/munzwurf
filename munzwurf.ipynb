{
 "cells": [
  {
   "cell_type": "code",
   "execution_count": 1,
   "metadata": {},
   "outputs": [],
   "source": [
    "import os\n",
    "import sys\n",
    "import pandas as pd\n",
    "import torch\n",
    "import numpy as np\n",
    "from torch.utils.data import Dataset\n",
    "from torch.utils.data import DataLoader\n",
    "from torch.utils.data import Subset\n",
    "import torch.nn as nn\n",
    "import torch.nn.functional as F\n",
    "import torch.optim as optim\n",
    "import torchvision.transforms as transforms\n",
    "import matplotlib.pyplot as plt"
   ]
  },
  {
   "cell_type": "code",
   "execution_count": 2,
   "metadata": {},
   "outputs": [
    {
     "name": "stdout",
     "output_type": "stream",
     "text": [
      "Using cuda device\n"
     ]
    }
   ],
   "source": [
    "device = 'cuda' if torch.cuda.is_available() else 'cpu'\n",
    "print('Using {} device'.format(device))"
   ]
  },
  {
   "cell_type": "code",
   "execution_count": null,
   "metadata": {},
   "outputs": [],
   "source": []
  },
  {
   "cell_type": "code",
   "execution_count": 3,
   "metadata": {},
   "outputs": [],
   "source": [
    "class CustomDataset(Dataset):\n",
    "    def __init__(self, labels_file, file_dir, transform=None):\n",
    "        self.labels = pd.read_csv(labels_file)\n",
    "        self.labels_array = np.array(torch.tensor(self.labels.iloc[:, 1]))\n",
    "        self.file_dir = file_dir\n",
    "        self.transform = transform\n",
    "\n",
    "\n",
    "    def __len__(self):\n",
    "        return len(self.labels)\n",
    "\n",
    "    def __getitem__(self, idx):\n",
    "        file_path = os.path.join(self.file_dir, self.labels.iloc[idx,0])\n",
    "        file = np.genfromtxt (file_path ,dtype=float, delimiter=\",\")\n",
    "        file = np.pad(file, (0, 769024 - len(file)))\n",
    "        file = torch.from_numpy(file).float().reshape( 1, -1)\n",
    "        label = self.labels.iloc[idx,1]\n",
    "        sample = {\"file\" : file, \"label\": label}\n",
    "        return sample"
   ]
  },
  {
   "cell_type": "code",
   "execution_count": 4,
   "metadata": {},
   "outputs": [],
   "source": [
    "file_dir = \"/home/marcus/Documents/munzwurf/data_normalized\"\n",
    "labels_dir = \"/home/marcus/Documents/munzwurf/data/labels.csv\"\n",
    "\n",
    "customData = CustomDataset(labels_dir, file_dir)"
   ]
  },
  {
   "cell_type": "code",
   "execution_count": 5,
   "metadata": {},
   "outputs": [
    {
     "data": {
      "text/plain": [
       "769024"
      ]
     },
     "execution_count": 5,
     "metadata": {},
     "output_type": "execute_result"
    }
   ],
   "source": [
    "\n",
    "len(customData[0][\"file\"][0])"
   ]
  },
  {
   "cell_type": "code",
   "execution_count": 6,
   "metadata": {},
   "outputs": [],
   "source": [
    "random_indices = np.array(np.floor(np.random.rand(100) * 1000), dtype=int)\n",
    "#tested a bunch of random indices to get a balanced representation of labels\n",
    "tested_indices = [ 75, 296, 705, 917, 596, 117, 987, 681, 746, 189, 868, 661, 752, 462, 362, 322,  50,  90,\n",
    " 526,  53, 15, 403, 881, 226, 428, 453,  80, 312, 486, 690, 842, 959, 247, 224, 748, 772,\n",
    " 620, 617, 108,  96, 212, 649, 866, 707, 956, 772, 234, 339, 166, 954, 602, 935, 707, 717,\n",
    "  14, 672, 891, 415, 199, 511,   2, 998, 628, 651,  47, 115, 966,  29,   5, 240, 371,  85,\n",
    "  18, 997,  68, 170, 325, 807, 378, 566, 763, 121,   3, 442, 674, 938, 393, 763, 755, 336,\n",
    " 419, 408, 104, 923, 580, 530, 859, 371, 957, 535]\n"
   ]
  },
  {
   "cell_type": "code",
   "execution_count": 7,
   "metadata": {},
   "outputs": [],
   "source": [
    "test_labels = np.array([], dtype=int)\n",
    "for i in range(len(random_indices)):\n",
    "    test_labels = np.append(test_labels, customData.labels_array[tested_indices[i]])"
   ]
  },
  {
   "cell_type": "code",
   "execution_count": 8,
   "metadata": {
    "scrolled": true
   },
   "outputs": [
    {
     "data": {
      "text/plain": [
       "<BarContainer object of 7 artists>"
      ]
     },
     "execution_count": 8,
     "metadata": {},
     "output_type": "execute_result"
    },
    {
     "data": {
      "image/png": "[encoded data removed]",
      "text/plain": [
       "<Figure size 432x288 with 1 Axes>"
      ]
     },
     "metadata": {
      "needs_background": "light"
     },
     "output_type": "display_data"
    }
   ],
   "source": [
    "label_count = []\n",
    "for i in range(7):\n",
    "    label_count.append(np.count_nonzero(test_labels == i))\n",
    "\n",
    "plt.bar(range(7), label_count)"
   ]
  },
  {
   "cell_type": "code",
   "execution_count": 9,
   "metadata": {},
   "outputs": [],
   "source": [
    "train_data = Subset(customData, tested_indices)\n",
    "test_data = Subset(CustomDataset, np.arange(800, len(customData)))\n",
    "train_dataloader = DataLoader(train_data, batch_size=64, shuffle=True, pin_memory=False, num_workers=4)\n",
    "test_dataloader  = DataLoader(test_data, batch_size=4, shuffle=True, pin_memory=False, num_workers=4)\n"
   ]
  },
  {
   "cell_type": "code",
   "execution_count": 10,
   "metadata": {
    "scrolled": false
   },
   "outputs": [
    {
     "data": {
      "image/png": "[encoded data removed]",
      "text/plain": [
       "<Figure size 432x288 with 1 Axes>"
      ]
     },
     "metadata": {
      "needs_background": "light"
     },
     "output_type": "display_data"
    },
    {
     "data": {
      "image/png": "[encoded data removed]",
      "text/plain": [
       "<Figure size 432x288 with 1 Axes>"
      ]
     },
     "metadata": {
      "needs_background": "light"
     },
     "output_type": "display_data"
    },
    {
     "data": {
      "text/plain": [
       "1015500.0"
      ]
     },
     "execution_count": 10,
     "metadata": {},
     "output_type": "execute_result"
    }
   ],
   "source": [
    "normalizedarray = np.loadtxt(os.path.join(\"/home/marcus/Documents/munzwurf/data_normalized\", \"1_tisch_g8_3\"), delimiter =\",\")\n",
    "plt.plot(range(len(normalizedarray)), normalizedarray)\n",
    "plt.show()\n",
    "normalizedarray = np.loadtxt(os.path.join(\"/home/marcus/Documents/munzwurf/data\", \"1_tisch_g8_3\"), delimiter =\",\")\n",
    "plt.plot(range(len(normalizedarray)), normalizedarray)\n",
    "plt.show()\n",
    "max(normalizedarray)"
   ]
  },
  {
   "cell_type": "code",
   "execution_count": 11,
   "metadata": {},
   "outputs": [],
   "source": [
    "class Network(nn.Module):\n",
    "    def __init__(self):\n",
    "        super(Network, self).__init__()\n",
    "\n",
    "        self.conv1 = nn.Conv1d(1, 2, kernel_size=3, padding=1) \n",
    "        self.conv2 = nn.Conv1d(2, 4, kernel_size=3, padding=1) \n",
    "        self.conv3 = nn.Conv1d(4, 8, kernel_size=3, padding=1) \n",
    "        self.conv4 = nn.Conv1d(8, 16, kernel_size=3, padding=1) \n",
    "        self.conv5 = nn.Conv1d(16, 32, kernel_size=3, padding=1) \n",
    "      \n",
    "        self.fc1   = nn.Linear(101248, 7)  #262500\n",
    "     \n",
    "        \n",
    "        \n",
    "    def forward(self, x):\n",
    "        x = F.max_pool1d(F.relu(self.conv1(x)),3)\n",
    "        #print(x.shape)\n",
    "        x = F.max_pool1d(F.relu(self.conv2(x)),3)\n",
    "        #print(x.shape)\n",
    "        x = F.max_pool1d(F.relu(self.conv3(x)),3)\n",
    "        #print(x.shape)\n",
    "        x = F.max_pool1d(F.relu(self.conv4(x)),3)\n",
    "        #print(x.shape)\n",
    "        x = F.max_pool1d(F.relu(self.conv5(x)),3)\n",
    "        #print(x.shape)\n",
    "        x = torch.flatten(x, 1) \n",
    "        print(x.shape)\n",
    "        x = F.softmax(self.fc1(x), dim=1)\n",
    "        \"\"\"\n",
    "        Size after each layer\n",
    "        torch.Size([64, 1, 262500])\n",
    "        torch.Size([64, 1, 131250])\n",
    "        torch.Size([64, 1, 65625])\n",
    "        torch.Size([64, 1, 32812])\n",
    "        torch.Size([64, 1, 16406])\n",
    "        \"\"\"\n",
    "        \n",
    "        return x"
   ]
  },
  {
   "cell_type": "code",
   "execution_count": 12,
   "metadata": {
    "scrolled": false
   },
   "outputs": [
    {
     "name": "stdout",
     "output_type": "stream",
     "text": [
      "Network(\n",
      "  (conv1): Conv1d(1, 2, kernel_size=(3,), stride=(1,), padding=(1,))\n",
      "  (conv2): Conv1d(2, 4, kernel_size=(3,), stride=(1,), padding=(1,))\n",
      "  (conv3): Conv1d(4, 8, kernel_size=(3,), stride=(1,), padding=(1,))\n",
      "  (conv4): Conv1d(8, 16, kernel_size=(3,), stride=(1,), padding=(1,))\n",
      "  (conv5): Conv1d(16, 32, kernel_size=(3,), stride=(1,), padding=(1,))\n",
      "  (fc1): Linear(in_features=101248, out_features=7, bias=True)\n",
      ")\n",
      "710851\n"
     ]
    }
   ],
   "source": [
    "model = Network().to(device)\n",
    "print(model)\n",
    "total_params = sum(p.numel() for p in model.parameters() if p.requires_grad)\n",
    "print(total_params)"
   ]
  },
  {
   "cell_type": "code",
   "execution_count": 13,
   "metadata": {},
   "outputs": [],
   "source": [
    "criterion = nn.CrossEntropyLoss()\n",
    "optimizer = optim.SGD(model.parameters(), lr = 0.0001)\n"
   ]
  },
  {
   "cell_type": "code",
   "execution_count": null,
   "metadata": {},
   "outputs": [],
   "source": [
    "loss_array = []\n",
    "for epoch in range(50):  # loop over the dataset multiple times\n",
    "\n",
    "    running_loss = 0.0\n",
    "    for i, data in enumerate(train_dataloader, 0):\n",
    "        # get the inputs; data is a list of [inputs, labels]\n",
    "        inputs = data[\"file\"]\n",
    "        labels = data[\"label\"]\n",
    "        inputs = inputs.to(device)\n",
    "        labels = labels.to(device)\n",
    "        # zero the parameter gradients\n",
    "        optimizer.zero_grad()\n",
    "\n",
    "        # forward + backward + optimize\n",
    "        outputs = model(inputs)\n",
    "        loss = criterion(outputs, labels)\n",
    "        loss.backward()\n",
    "        optimizer.step()\n",
    "        #loss_array.append(loss.item())\n",
    "        #loss_plot = plt.plot(range(len(loss_array)), loss_array)\n",
    "        #plt.show()\n",
    "        \n",
    "        # print statistics\n",
    "        running_loss += loss.item()\n",
    "        print(loss)\n",
    "        if i % 5 == 4:    # print every 10 mini-batches\n",
    "            print('[%d, %5d] loss: %.3f' %\n",
    "                  (epoch + 1, i + 1, running_loss / 10))\n",
    "            running_loss = 0.0\n",
    "            print(outputs, labels)\n",
    "\n",
    "print('Finished Training')"
   ]
  }
 ],
 "metadata": {
  "kernelspec": {
   "display_name": "Python 3",
   "language": "python",
   "name": "python3"
  },
  "language_info": {
   "codemirror_mode": {
    "name": "ipython",
    "version": 3
   },
   "file_extension": ".py",
   "mimetype": "text/x-python",
   "name": "python",
   "nbconvert_exporter": "python",
   "pygments_lexer": "ipython3",
   "version": "3.8.5"
  }
 },
 "nbformat": 4,
 "nbformat_minor": 4
}
